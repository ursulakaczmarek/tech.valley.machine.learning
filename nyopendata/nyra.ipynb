{
 "cells": [
  {
   "cell_type": "markdown",
   "metadata": {},
   "source": [
    "### machine learning demo using nys racetrack equine injury data\n",
    "\n",
    "we will cover the following steps:\n",
    "* pulling data from the ny open data catalogue\n",
    "* brief exploratory data analysis\n",
    "* data cleaning\n",
    "* select and train a machine learning algorithm\n",
    "* evaluate our results"
   ]
  },
  {
   "cell_type": "markdown",
   "metadata": {},
   "source": [
    "#### step one: pulling and indexing data"
   ]
  },
  {
   "cell_type": "code",
   "execution_count": 1,
   "metadata": {
    "scrolled": true
   },
   "outputs": [
    {
     "name": "stderr",
     "output_type": "stream",
     "text": [
      "/Users/kaczmarek/anaconda2/lib/python2.7/site-packages/sklearn/cross_validation.py:41: DeprecationWarning: This module was deprecated in version 0.18 in favor of the model_selection module into which all the refactored classes and functions are moved. Also note that the interface of the new CV iterators are different from that of this module. This module will be removed in 0.20.\n",
      "  \"This module will be removed in 0.20.\", DeprecationWarning)\n",
      "/Users/kaczmarek/anaconda2/lib/python2.7/site-packages/sklearn/grid_search.py:42: DeprecationWarning: This module was deprecated in version 0.18 in favor of the model_selection module into which all the refactored classes and functions are moved. This module will be removed in 0.20.\n",
      "  DeprecationWarning)\n"
     ]
    }
   ],
   "source": [
    "from sodapy import Socrata\n",
    "import pandas as pd\n",
    "import numpy as np\n",
    "import matplotlib.pyplot as plt\n",
    "import seaborn as sn\n",
    "from sklearn.ensemble import RandomForestClassifier\n",
    "from sklearn.grid_search import GridSearchCV\n",
    "from sklearn.model_selection import train_test_split\n",
    "from sklearn.metrics import make_scorer\n",
    "from sklearn.metrics import accuracy_score\n",
    "from sklearn.metrics import precision_score\n",
    "from sklearn.metrics import classification_report\n",
    "from sklearn.metrics import confusion_matrix"
   ]
  },
  {
   "cell_type": "code",
   "execution_count": 2,
   "metadata": {},
   "outputs": [
    {
     "name": "stderr",
     "output_type": "stream",
     "text": [
      "WARNING:root:Requests made without an app_token will be subject to strict throttling limits.\n"
     ]
    },
    {
     "data": {
      "text/html": [
       "<div>\n",
       "<style>\n",
       "    .dataframe thead tr:only-child th {\n",
       "        text-align: right;\n",
       "    }\n",
       "\n",
       "    .dataframe thead th {\n",
       "        text-align: left;\n",
       "    }\n",
       "\n",
       "    .dataframe tbody tr th {\n",
       "        vertical-align: top;\n",
       "    }\n",
       "</style>\n",
       "<table border=\"1\" class=\"dataframe\">\n",
       "  <thead>\n",
       "    <tr style=\"text-align: right;\">\n",
       "      <th></th>\n",
       "      <th>death_or_injury</th>\n",
       "      <th>division</th>\n",
       "      <th>horse</th>\n",
       "      <th>incident_date</th>\n",
       "      <th>incident_description</th>\n",
       "      <th>incident_type</th>\n",
       "      <th>inv_location</th>\n",
       "      <th>jockey_driver</th>\n",
       "      <th>racing_type_description</th>\n",
       "      <th>track</th>\n",
       "      <th>trainer</th>\n",
       "      <th>weather_conditions</th>\n",
       "      <th>year</th>\n",
       "    </tr>\n",
       "  </thead>\n",
       "  <tbody>\n",
       "    <tr>\n",
       "      <th>0</th>\n",
       "      <td>Injury</td>\n",
       "      <td>Harness</td>\n",
       "      <td>Stratus</td>\n",
       "      <td>2015-06-12T00:00:00.000</td>\n",
       "      <td>Stratus-Tr. Berube-DNF-vet exam revealed heart...</td>\n",
       "      <td>RACING INJURY</td>\n",
       "      <td>Vernon Downs</td>\n",
       "      <td>FERNAND A. PAQUET JR</td>\n",
       "      <td>Racing</td>\n",
       "      <td>Vernon Downs</td>\n",
       "      <td>ALEXANDRA S. HOWARD</td>\n",
       "      <td>Rain</td>\n",
       "      <td>2015</td>\n",
       "    </tr>\n",
       "    <tr>\n",
       "      <th>1</th>\n",
       "      <td>Equine Death</td>\n",
       "      <td>Thoroughbred</td>\n",
       "      <td>Sunshine Platter</td>\n",
       "      <td>2013-08-10T00:00:00.000</td>\n",
       "      <td>Sunshine Platter-Tr. Bireta-fx LF leg-fell-eut...</td>\n",
       "      <td>EQUINE DEATH</td>\n",
       "      <td>3/16 POLE</td>\n",
       "      <td>EMANUEL DE DIEGO</td>\n",
       "      <td>Racing</td>\n",
       "      <td>Finger Lakes Gaming &amp; Racetrack</td>\n",
       "      <td>DONNA M. BIRETA</td>\n",
       "      <td></td>\n",
       "      <td>2013</td>\n",
       "    </tr>\n",
       "    <tr>\n",
       "      <th>2</th>\n",
       "      <td>Equine Injury / Equine Death</td>\n",
       "      <td>Thoroughbred</td>\n",
       "      <td>No Cat Like That</td>\n",
       "      <td>2012-10-15T00:00:00.000</td>\n",
       "      <td>No Cat Like That-Tr. Chris Englehart-fx RH leg...</td>\n",
       "      <td>EQUINE DEATH</td>\n",
       "      <td>Training Track, Finish Line</td>\n",
       "      <td></td>\n",
       "      <td>Training</td>\n",
       "      <td>Belmont Park (NYRA)</td>\n",
       "      <td>CHRISTOPHER J. ENGLEHART</td>\n",
       "      <td>Cloudy 55 to 60 : degrees F</td>\n",
       "      <td>2012</td>\n",
       "    </tr>\n",
       "    <tr>\n",
       "      <th>3</th>\n",
       "      <td>Steward's List</td>\n",
       "      <td>Thoroughbred</td>\n",
       "      <td>Tough Talk</td>\n",
       "      <td>2012-06-17T00:00:00.000</td>\n",
       "      <td>Tough Talk - Tr. Richard Dutrow - eased up - o...</td>\n",
       "      <td>STEWARDS/VETS LIST</td>\n",
       "      <td>Main Track, 1/4 Pole</td>\n",
       "      <td>JUNIOR R. ALVARADO</td>\n",
       "      <td>Racing</td>\n",
       "      <td>Belmont Park (NYRA)</td>\n",
       "      <td>RICHARD E. DUTROW JR</td>\n",
       "      <td>Clear 70 to 75 : degrees F</td>\n",
       "      <td>2012</td>\n",
       "    </tr>\n",
       "    <tr>\n",
       "      <th>4</th>\n",
       "      <td>Equine Death</td>\n",
       "      <td>Thoroughbred</td>\n",
       "      <td>The Lucky Dream</td>\n",
       "      <td>2014-07-10T00:00:00.000</td>\n",
       "      <td>The Lucky Dream-Tr. Michael Ferraro-collapsed ...</td>\n",
       "      <td>EQUINE DEATH</td>\n",
       "      <td>barn #7</td>\n",
       "      <td></td>\n",
       "      <td>Non-Racing</td>\n",
       "      <td>Finger Lakes Gaming &amp; Racetrack</td>\n",
       "      <td>MICHAEL S. FERRARO</td>\n",
       "      <td></td>\n",
       "      <td>2014</td>\n",
       "    </tr>\n",
       "  </tbody>\n",
       "</table>\n",
       "</div>"
      ],
      "text/plain": [
       "                death_or_injury      division             horse  \\\n",
       "0                        Injury       Harness           Stratus   \n",
       "1                  Equine Death  Thoroughbred  Sunshine Platter   \n",
       "2  Equine Injury / Equine Death  Thoroughbred  No Cat Like That   \n",
       "3                Steward's List  Thoroughbred        Tough Talk   \n",
       "4                  Equine Death  Thoroughbred   The Lucky Dream   \n",
       "\n",
       "             incident_date                               incident_description  \\\n",
       "0  2015-06-12T00:00:00.000  Stratus-Tr. Berube-DNF-vet exam revealed heart...   \n",
       "1  2013-08-10T00:00:00.000  Sunshine Platter-Tr. Bireta-fx LF leg-fell-eut...   \n",
       "2  2012-10-15T00:00:00.000  No Cat Like That-Tr. Chris Englehart-fx RH leg...   \n",
       "3  2012-06-17T00:00:00.000  Tough Talk - Tr. Richard Dutrow - eased up - o...   \n",
       "4  2014-07-10T00:00:00.000  The Lucky Dream-Tr. Michael Ferraro-collapsed ...   \n",
       "\n",
       "        incident_type                 inv_location         jockey_driver  \\\n",
       "0       RACING INJURY                 Vernon Downs  FERNAND A. PAQUET JR   \n",
       "1        EQUINE DEATH                    3/16 POLE      EMANUEL DE DIEGO   \n",
       "2        EQUINE DEATH  Training Track, Finish Line                         \n",
       "3  STEWARDS/VETS LIST         Main Track, 1/4 Pole    JUNIOR R. ALVARADO   \n",
       "4        EQUINE DEATH                      barn #7                         \n",
       "\n",
       "  racing_type_description                            track  \\\n",
       "0                  Racing                     Vernon Downs   \n",
       "1                  Racing  Finger Lakes Gaming & Racetrack   \n",
       "2                Training              Belmont Park (NYRA)   \n",
       "3                  Racing              Belmont Park (NYRA)   \n",
       "4              Non-Racing  Finger Lakes Gaming & Racetrack   \n",
       "\n",
       "                    trainer           weather_conditions  year  \n",
       "0       ALEXANDRA S. HOWARD                         Rain  2015  \n",
       "1           DONNA M. BIRETA                               2013  \n",
       "2  CHRISTOPHER J. ENGLEHART  Cloudy 55 to 60 : degrees F  2012  \n",
       "3      RICHARD E. DUTROW JR   Clear 70 to 75 : degrees F  2012  \n",
       "4        MICHAEL S. FERRARO                               2014  "
      ]
     },
     "execution_count": 2,
     "metadata": {},
     "output_type": "execute_result"
    }
   ],
   "source": [
    "# identify catalogue domain and datsaset endpoint\n",
    "client = Socrata('data.ny.gov', None)\n",
    "data = client.get('6zik-4gtg', limit = 5000, content_type = 'JSON')\n",
    "\n",
    "# load the data as a data frame\n",
    "df = pd.DataFrame.from_records(data)\n",
    "df.head()"
   ]
  },
  {
   "cell_type": "markdown",
   "metadata": {
    "collapsed": true
   },
   "source": [
    "#### step two: exploratory data analysis\n",
    "what we will learn:\n",
    "* how many incidents resulted in the death of the horse\n",
    "* are there any time patterns we can discern \n",
    "* are some racetracks worse than others"
   ]
  },
  {
   "cell_type": "code",
   "execution_count": 3,
   "metadata": {
    "scrolled": true
   },
   "outputs": [
    {
     "data": {
      "text/plain": [
       "EQUINE DEATH                         1249\n",
       "STEWARDS/VETS LIST                   1161\n",
       "RACING INJURY                         311\n",
       "FALL OF RIDER                         215\n",
       "FALL OF HORSE                         116\n",
       "ACCIDENT - ON TRACK                   111\n",
       "ACCIDENT - TAGGED SULKY                56\n",
       "ACCIDENT - IN STARTING GATE            22\n",
       "ACCIDENT - DRIVER/JOCKEY               10\n",
       "EQUINE DEATH - INFECTIOUS DISEASE      10\n",
       "ON-TRACK ACCIDENT                       7\n",
       "DRIVER/JOCKEY INJURED                   7\n",
       "Name: incident_type, dtype: int64"
      ]
     },
     "execution_count": 3,
     "metadata": {},
     "output_type": "execute_result"
    }
   ],
   "source": [
    "# frequency counts of categories\n",
    "pd.value_counts(df['incident_type'])"
   ]
  },
  {
   "cell_type": "code",
   "execution_count": 4,
   "metadata": {},
   "outputs": [
    {
     "data": {
      "text/html": [
       "<div>\n",
       "<style>\n",
       "    .dataframe thead tr:only-child th {\n",
       "        text-align: right;\n",
       "    }\n",
       "\n",
       "    .dataframe thead th {\n",
       "        text-align: left;\n",
       "    }\n",
       "\n",
       "    .dataframe tbody tr th {\n",
       "        vertical-align: top;\n",
       "    }\n",
       "</style>\n",
       "<table border=\"1\" class=\"dataframe\">\n",
       "  <thead>\n",
       "    <tr style=\"text-align: right;\">\n",
       "      <th></th>\n",
       "      <th>incident_type</th>\n",
       "    </tr>\n",
       "    <tr>\n",
       "      <th>track</th>\n",
       "      <th></th>\n",
       "    </tr>\n",
       "  </thead>\n",
       "  <tbody>\n",
       "    <tr>\n",
       "      <th>Aqueduct Racetrack (NYRA)</th>\n",
       "      <td>207</td>\n",
       "    </tr>\n",
       "    <tr>\n",
       "      <th>Batavia Downs</th>\n",
       "      <td>18</td>\n",
       "    </tr>\n",
       "    <tr>\n",
       "      <th>Belmont Park (NYRA)</th>\n",
       "      <td>388</td>\n",
       "    </tr>\n",
       "    <tr>\n",
       "      <th>Buffalo Raceway</th>\n",
       "      <td>32</td>\n",
       "    </tr>\n",
       "    <tr>\n",
       "      <th>Finger Lakes Gaming &amp; Racetrack</th>\n",
       "      <td>367</td>\n",
       "    </tr>\n",
       "    <tr>\n",
       "      <th>Monticello Raceway &amp; Mighty M Gaming</th>\n",
       "      <td>34</td>\n",
       "    </tr>\n",
       "    <tr>\n",
       "      <th>Saratoga Gaming &amp; Raceway</th>\n",
       "      <td>31</td>\n",
       "    </tr>\n",
       "    <tr>\n",
       "      <th>Saratoga Racecourse (NYRA)</th>\n",
       "      <td>125</td>\n",
       "    </tr>\n",
       "    <tr>\n",
       "      <th>Tioga Downs</th>\n",
       "      <td>13</td>\n",
       "    </tr>\n",
       "    <tr>\n",
       "      <th>Vernon Downs</th>\n",
       "      <td>11</td>\n",
       "    </tr>\n",
       "    <tr>\n",
       "      <th>Yonkers Raceway</th>\n",
       "      <td>33</td>\n",
       "    </tr>\n",
       "  </tbody>\n",
       "</table>\n",
       "</div>"
      ],
      "text/plain": [
       "                                      incident_type\n",
       "track                                              \n",
       "Aqueduct Racetrack (NYRA)                       207\n",
       "Batavia Downs                                    18\n",
       "Belmont Park (NYRA)                             388\n",
       "Buffalo Raceway                                  32\n",
       "Finger Lakes Gaming & Racetrack                 367\n",
       "Monticello Raceway & Mighty M Gaming             34\n",
       "Saratoga Gaming & Raceway                        31\n",
       "Saratoga Racecourse (NYRA)                      125\n",
       "Tioga Downs                                      13\n",
       "Vernon Downs                                     11\n",
       "Yonkers Raceway                                  33"
      ]
     },
     "execution_count": 4,
     "metadata": {},
     "output_type": "execute_result"
    }
   ],
   "source": [
    "# lets break down the frequency of deaths by racetrack\n",
    "# first create a death indicator\n",
    "df['incident_type'] = df['incident_type'].str.contains('DEATH')*1\n",
    "# then build pivot table\n",
    "pd.pivot_table(df, index = 'track', values = 'incident_type', aggfunc = 'sum')"
   ]
  },
  {
   "cell_type": "code",
   "execution_count": 5,
   "metadata": {
    "scrolled": false
   },
   "outputs": [
    {
     "data": {
      "text/plain": [
       "<matplotlib.axes._subplots.AxesSubplot at 0x1a19077c50>"
      ]
     },
     "execution_count": 5,
     "metadata": {},
     "output_type": "execute_result"
    },
    {
     "data": {
      "image/png": "[encoded data removed]",
      "text/plain": [
       "<matplotlib.figure.Figure at 0x1a1905a0d0>"
      ]
     },
     "metadata": {},
     "output_type": "display_data"
    }
   ],
   "source": [
    "# let's visualize deaths per year\n",
    "%matplotlib inline\n",
    "\n",
    "sn.set(rc = {'figure.figsize': (8, 8)}, style = \"white\")\n",
    "sn.countplot(x = 'incident_type', hue = 'year', data = df, palette = 'mako')"
   ]
  },
  {
   "cell_type": "markdown",
   "metadata": {},
   "source": [
    "#### step three: data cleaning\n",
    "what we will do:\n",
    "* fill in missing values with a placeholder value\n",
    "* check and remove any duplicate entries\n",
    "* format timestamp in date field\n",
    "* isolate weather condition from temperature"
   ]
  },
  {
   "cell_type": "code",
   "execution_count": 6,
   "metadata": {},
   "outputs": [
    {
     "data": {
      "text/html": [
       "<div>\n",
       "<style>\n",
       "    .dataframe thead tr:only-child th {\n",
       "        text-align: right;\n",
       "    }\n",
       "\n",
       "    .dataframe thead th {\n",
       "        text-align: left;\n",
       "    }\n",
       "\n",
       "    .dataframe tbody tr th {\n",
       "        vertical-align: top;\n",
       "    }\n",
       "</style>\n",
       "<table border=\"1\" class=\"dataframe\">\n",
       "  <thead>\n",
       "    <tr style=\"text-align: right;\">\n",
       "      <th></th>\n",
       "      <th>death_or_injury</th>\n",
       "      <th>division</th>\n",
       "      <th>horse</th>\n",
       "      <th>incident_date</th>\n",
       "      <th>incident_description</th>\n",
       "      <th>incident_type</th>\n",
       "      <th>inv_location</th>\n",
       "      <th>jockey_driver</th>\n",
       "      <th>racing_type_description</th>\n",
       "      <th>track</th>\n",
       "      <th>trainer</th>\n",
       "      <th>weather_conditions</th>\n",
       "      <th>year</th>\n",
       "    </tr>\n",
       "  </thead>\n",
       "  <tbody>\n",
       "  </tbody>\n",
       "</table>\n",
       "</div>"
      ],
      "text/plain": [
       "Empty DataFrame\n",
       "Columns: [death_or_injury, division, horse, incident_date, incident_description, incident_type, inv_location, jockey_driver, racing_type_description, track, trainer, weather_conditions, year]\n",
       "Index: []"
      ]
     },
     "execution_count": 6,
     "metadata": {},
     "output_type": "execute_result"
    }
   ],
   "source": [
    "# remove any duplicates\n",
    "df[df.duplicated(keep = False)]"
   ]
  },
  {
   "cell_type": "code",
   "execution_count": 7,
   "metadata": {},
   "outputs": [],
   "source": [
    "# remove timestamp from date field and label season 1-4\n",
    "df['incident_date'] = pd.to_datetime(df['incident_date'])\n",
    "df['season'] = (df['incident_date'].dt.month%12 + 3)//3"
   ]
  },
  {
   "cell_type": "code",
   "execution_count": 8,
   "metadata": {},
   "outputs": [
    {
     "name": "stderr",
     "output_type": "stream",
     "text": [
      "/Users/kaczmarek/anaconda2/lib/python2.7/site-packages/ipykernel_launcher.py:3: FutureWarning: currently extract(expand=None) means expand=False (return Index/Series/DataFrame) but in a future version of pandas this will be changed to expand=True (return DataFrame)\n",
      "  This is separate from the ipykernel package so we can avoid doing imports until\n"
     ]
    }
   ],
   "source": [
    "# separate temperature from weather conditions\n",
    "df['weather_conditions'] = map(lambda x: unicode(x).lower(), df['weather_conditions'])\n",
    "df['temperature'] = df['weather_conditions'].str.extract(r'(\\d+)').astype(float)\n",
    "# give missing temps a value of avg. temp to change to integer type\n",
    "df['temperature'] = df['temperature'].fillna(df['temperature'].mean())"
   ]
  },
  {
   "cell_type": "code",
   "execution_count": 9,
   "metadata": {},
   "outputs": [
    {
     "name": "stderr",
     "output_type": "stream",
     "text": [
      "/Users/kaczmarek/anaconda2/lib/python2.7/site-packages/ipykernel_launcher.py:2: FutureWarning: currently extract(expand=None) means expand=False (return Index/Series/DataFrame) but in a future version of pandas this will be changed to expand=True (return DataFrame)\n",
      "  \n"
     ]
    }
   ],
   "source": [
    "# clean up some typos & standardize\n",
    "df['weather_conditions'] = df['weather_conditions'].str.extract(r'(\\b[a-z]+\\b)')\n",
    "replacements = {\n",
    "    'overcast' : 'cloudy',\n",
    "    'over' : 'cloudy',\n",
    "    'cloudyy' : 'cloudy',\n",
    "    'clody' : 'cloudy',\n",
    "    'clouds' : 'cloudy',\n",
    "    'couldy' : 'cloudy',\n",
    "    'coudy' : 'cloudy'\n",
    "}\n",
    "\n",
    "df.loc[df['weather_conditions'].isin(replacements.keys()), 'weather_conditions'] = df['weather_conditions'].map(replacements)\n"
   ]
  },
  {
   "cell_type": "code",
   "execution_count": 10,
   "metadata": {},
   "outputs": [
    {
     "name": "stdout",
     "output_type": "stream",
     "text": [
      "clear     993\n",
      "cloudy    513\n",
      "other     399\n",
      "partly    159\n",
      "sunny     116\n",
      "rain       66\n",
      "Name: weather_conditions, dtype: int64\n"
     ]
    }
   ],
   "source": [
    "# lump together sparse values (value = less than 2% of total)\n",
    "counts = df.weather_conditions.value_counts()\n",
    "sparse_vals = counts.index[counts < df.shape[0] * 0.020]\n",
    "df.loc[df['weather_conditions'].isin(sparse_vals), 'weather_conditions'] = \"other\"\n",
    "print df.weather_conditions.value_counts()"
   ]
  },
  {
   "cell_type": "code",
   "execution_count": 11,
   "metadata": {
    "collapsed": true
   },
   "outputs": [],
   "source": [
    "# fill in missing values\n",
    "df.replace({' ' : np.nan, '' : np.nan, 'na' : np.nan, 'n/a' : np.nan, 'nan' : np.nan}, inplace = True)\n",
    "df = df.fillna('missing')"
   ]
  },
  {
   "cell_type": "code",
   "execution_count": 12,
   "metadata": {},
   "outputs": [
    {
     "name": "stdout",
     "output_type": "stream",
     "text": [
      "other           2300\n",
      "after finish     248\n",
      "3/8 pole         120\n",
      "1/4 pole         119\n",
      "finger lakes     118\n",
      "1/8 pole         108\n",
      "missing          104\n",
      "3/4 pole          85\n",
      "stretch           73\n",
      "Name: inv_location, dtype: int64\n"
     ]
    }
   ],
   "source": [
    "# format location to lower case to match values and cateogrize sparse (<2%) values as 'other'\n",
    "df['inv_location'] = map(lambda x: unicode(x).lower(), df['inv_location'])\n",
    "counts = df['inv_location'].value_counts()\n",
    "sparse_vals = counts.index[counts < df.shape[0] * 0.020]\n",
    "df.loc[df['inv_location'].isin(sparse_vals), 'inv_location'] = 'other'\n",
    "print df['inv_location'].value_counts()"
   ]
  },
  {
   "cell_type": "code",
   "execution_count": 13,
   "metadata": {},
   "outputs": [
    {
     "name": "stdout",
     "output_type": "stream",
     "text": [
      "other                 1999\n",
      "missing               1166\n",
      "JUNIOR R. ALVARADO      58\n",
      "IRAD ORTIZ JR           52\n",
      "Name: jockey_driver, dtype: int64\n",
      "other                       3112\n",
      "missing                       58\n",
      "CHRISTOPHER J. ENGLEHART      55\n",
      "RODOLFO (RUDY) RODRIGUEZ      50\n",
      "Name: trainer, dtype: int64\n"
     ]
    }
   ],
   "source": [
    "# examine jockey and trainer variables and group sparse entries (<1.5%)\n",
    "jockey_counts = df['jockey_driver'].value_counts()\n",
    "sparse_vals = jockey_counts.index[jockey_counts < df.shape[0] * 0.015]\n",
    "df.loc[df['jockey_driver'].isin(sparse_vals), 'jockey_driver'] = 'other'\n",
    "jockey_counts = df['jockey_driver'].value_counts()\n",
    "trainer_counts = df['trainer'].value_counts()\n",
    "sparse_vals_trainer = trainer_counts.index[trainer_counts < df.shape[0] * 0.015]\n",
    "df.loc[df['trainer'].isin(sparse_vals_trainer), 'trainer'] = 'other'\n",
    "print df['jockey_driver'].value_counts()\n",
    "print df['trainer'].value_counts()"
   ]
  },
  {
   "cell_type": "code",
   "execution_count": 14,
   "metadata": {
    "scrolled": false
   },
   "outputs": [
    {
     "data": {
      "text/plain": [
       "[u'division',\n",
       " u'incident_type',\n",
       " u'inv_location',\n",
       " u'jockey_driver',\n",
       " u'racing_type_description',\n",
       " u'track',\n",
       " u'trainer',\n",
       " u'weather_conditions',\n",
       " u'year',\n",
       " 'season',\n",
       " 'temperature']"
      ]
     },
     "execution_count": 14,
     "metadata": {},
     "output_type": "execute_result"
    }
   ],
   "source": [
    "# drop unwanted/redundant features\n",
    "df.drop(['death_or_injury', 'incident_description', 'horse', 'incident_date'], axis = 1, inplace = True)\n",
    "list(df)"
   ]
  },
  {
   "cell_type": "code",
   "execution_count": 15,
   "metadata": {},
   "outputs": [
    {
     "data": {
      "text/html": [
       "<div>\n",
       "<style>\n",
       "    .dataframe thead tr:only-child th {\n",
       "        text-align: right;\n",
       "    }\n",
       "\n",
       "    .dataframe thead th {\n",
       "        text-align: left;\n",
       "    }\n",
       "\n",
       "    .dataframe tbody tr th {\n",
       "        vertical-align: top;\n",
       "    }\n",
       "</style>\n",
       "<table border=\"1\" class=\"dataframe\">\n",
       "  <thead>\n",
       "    <tr style=\"text-align: right;\">\n",
       "      <th></th>\n",
       "      <th>incident_type</th>\n",
       "      <th>season</th>\n",
       "      <th>temperature</th>\n",
       "      <th>division_Harness</th>\n",
       "      <th>division_Thoroughbred</th>\n",
       "      <th>inv_location_1/4 pole</th>\n",
       "      <th>inv_location_1/8 pole</th>\n",
       "      <th>inv_location_3/4 pole</th>\n",
       "      <th>inv_location_3/8 pole</th>\n",
       "      <th>inv_location_after finish</th>\n",
       "      <th>...</th>\n",
       "      <th>year_2009</th>\n",
       "      <th>year_2010</th>\n",
       "      <th>year_2011</th>\n",
       "      <th>year_2012</th>\n",
       "      <th>year_2013</th>\n",
       "      <th>year_2014</th>\n",
       "      <th>year_2015</th>\n",
       "      <th>year_2016</th>\n",
       "      <th>year_2017</th>\n",
       "      <th>year_2018</th>\n",
       "    </tr>\n",
       "  </thead>\n",
       "  <tbody>\n",
       "    <tr>\n",
       "      <th>0</th>\n",
       "      <td>0</td>\n",
       "      <td>3</td>\n",
       "      <td>66.486833</td>\n",
       "      <td>1</td>\n",
       "      <td>0</td>\n",
       "      <td>0</td>\n",
       "      <td>0</td>\n",
       "      <td>0</td>\n",
       "      <td>0</td>\n",
       "      <td>0</td>\n",
       "      <td>...</td>\n",
       "      <td>0</td>\n",
       "      <td>0</td>\n",
       "      <td>0</td>\n",
       "      <td>0</td>\n",
       "      <td>0</td>\n",
       "      <td>0</td>\n",
       "      <td>1</td>\n",
       "      <td>0</td>\n",
       "      <td>0</td>\n",
       "      <td>0</td>\n",
       "    </tr>\n",
       "    <tr>\n",
       "      <th>1</th>\n",
       "      <td>1</td>\n",
       "      <td>3</td>\n",
       "      <td>66.486833</td>\n",
       "      <td>0</td>\n",
       "      <td>1</td>\n",
       "      <td>0</td>\n",
       "      <td>0</td>\n",
       "      <td>0</td>\n",
       "      <td>0</td>\n",
       "      <td>0</td>\n",
       "      <td>...</td>\n",
       "      <td>0</td>\n",
       "      <td>0</td>\n",
       "      <td>0</td>\n",
       "      <td>0</td>\n",
       "      <td>1</td>\n",
       "      <td>0</td>\n",
       "      <td>0</td>\n",
       "      <td>0</td>\n",
       "      <td>0</td>\n",
       "      <td>0</td>\n",
       "    </tr>\n",
       "    <tr>\n",
       "      <th>2</th>\n",
       "      <td>1</td>\n",
       "      <td>4</td>\n",
       "      <td>55.000000</td>\n",
       "      <td>0</td>\n",
       "      <td>1</td>\n",
       "      <td>0</td>\n",
       "      <td>0</td>\n",
       "      <td>0</td>\n",
       "      <td>0</td>\n",
       "      <td>0</td>\n",
       "      <td>...</td>\n",
       "      <td>0</td>\n",
       "      <td>0</td>\n",
       "      <td>0</td>\n",
       "      <td>1</td>\n",
       "      <td>0</td>\n",
       "      <td>0</td>\n",
       "      <td>0</td>\n",
       "      <td>0</td>\n",
       "      <td>0</td>\n",
       "      <td>0</td>\n",
       "    </tr>\n",
       "    <tr>\n",
       "      <th>3</th>\n",
       "      <td>0</td>\n",
       "      <td>3</td>\n",
       "      <td>70.000000</td>\n",
       "      <td>0</td>\n",
       "      <td>1</td>\n",
       "      <td>0</td>\n",
       "      <td>0</td>\n",
       "      <td>0</td>\n",
       "      <td>0</td>\n",
       "      <td>0</td>\n",
       "      <td>...</td>\n",
       "      <td>0</td>\n",
       "      <td>0</td>\n",
       "      <td>0</td>\n",
       "      <td>1</td>\n",
       "      <td>0</td>\n",
       "      <td>0</td>\n",
       "      <td>0</td>\n",
       "      <td>0</td>\n",
       "      <td>0</td>\n",
       "      <td>0</td>\n",
       "    </tr>\n",
       "    <tr>\n",
       "      <th>4</th>\n",
       "      <td>1</td>\n",
       "      <td>3</td>\n",
       "      <td>66.486833</td>\n",
       "      <td>0</td>\n",
       "      <td>1</td>\n",
       "      <td>0</td>\n",
       "      <td>0</td>\n",
       "      <td>0</td>\n",
       "      <td>0</td>\n",
       "      <td>0</td>\n",
       "      <td>...</td>\n",
       "      <td>0</td>\n",
       "      <td>0</td>\n",
       "      <td>0</td>\n",
       "      <td>0</td>\n",
       "      <td>0</td>\n",
       "      <td>1</td>\n",
       "      <td>0</td>\n",
       "      <td>0</td>\n",
       "      <td>0</td>\n",
       "      <td>0</td>\n",
       "    </tr>\n",
       "  </tbody>\n",
       "</table>\n",
       "<p>5 rows Ã— 54 columns</p>\n",
       "</div>"
      ],
      "text/plain": [
       "   incident_type  season  temperature  division_Harness  \\\n",
       "0              0       3    66.486833                 1   \n",
       "1              1       3    66.486833                 0   \n",
       "2              1       4    55.000000                 0   \n",
       "3              0       3    70.000000                 0   \n",
       "4              1       3    66.486833                 0   \n",
       "\n",
       "   division_Thoroughbred  inv_location_1/4 pole  inv_location_1/8 pole  \\\n",
       "0                      0                      0                      0   \n",
       "1                      1                      0                      0   \n",
       "2                      1                      0                      0   \n",
       "3                      1                      0                      0   \n",
       "4                      1                      0                      0   \n",
       "\n",
       "   inv_location_3/4 pole  inv_location_3/8 pole  inv_location_after finish  \\\n",
       "0                      0                      0                          0   \n",
       "1                      0                      0                          0   \n",
       "2                      0                      0                          0   \n",
       "3                      0                      0                          0   \n",
       "4                      0                      0                          0   \n",
       "\n",
       "     ...      year_2009  year_2010  year_2011  year_2012  year_2013  \\\n",
       "0    ...              0          0          0          0          0   \n",
       "1    ...              0          0          0          0          1   \n",
       "2    ...              0          0          0          1          0   \n",
       "3    ...              0          0          0          1          0   \n",
       "4    ...              0          0          0          0          0   \n",
       "\n",
       "   year_2014  year_2015  year_2016  year_2017  year_2018  \n",
       "0          0          1          0          0          0  \n",
       "1          0          0          0          0          0  \n",
       "2          0          0          0          0          0  \n",
       "3          0          0          0          0          0  \n",
       "4          1          0          0          0          0  \n",
       "\n",
       "[5 rows x 54 columns]"
      ]
     },
     "execution_count": 15,
     "metadata": {},
     "output_type": "execute_result"
    }
   ],
   "source": [
    "# we need to one-hot encode our nonnumeric data for the random forests classifier\n",
    "df_enc = pd.get_dummies(df)\n",
    "df_enc.head()"
   ]
  },
  {
   "cell_type": "markdown",
   "metadata": {},
   "source": [
    "####  step four: building our random forests model\n",
    "what we will do:\n",
    "* split our data into training and testing sets using a non-Scikit method\n",
    "* create our classifier\n",
    "* evaluate our classifier using a confusion matrix\n",
    "* try improving our model:\n",
    "* split our data into train/test sets using the Scikit method\n",
    "* create and optimize our classifier using cross validation\n",
    "* evaluate our classifier using Scikit's classification report"
   ]
  },
  {
   "cell_type": "code",
   "execution_count": 16,
   "metadata": {},
   "outputs": [
    {
     "name": "stdout",
     "output_type": "stream",
     "text": [
      "Number of observations in the training data: 2486\n",
      "Number of observations in the test data: 789\n"
     ]
    }
   ],
   "source": [
    "# split into training and test sets\n",
    "np.random.seed(100) # this is just to validate the results when other users run the code\n",
    "df_enc['is_train'] = np.random.uniform(0, 1, len(df_enc)) <= .75\n",
    "train, test = df_enc[df_enc['is_train'] == True], df_enc[df_enc['is_train'] == False]\n",
    "\n",
    "print'Number of observations in the training data:', len(train)\n",
    "print'Number of observations in the test data:', len(test)"
   ]
  },
  {
   "cell_type": "code",
   "execution_count": 17,
   "metadata": {},
   "outputs": [
    {
     "data": {
      "text/plain": [
       "Index([                                    u'season',\n",
       "                                      u'temperature',\n",
       "                                 u'division_Harness',\n",
       "                            u'division_Thoroughbred',\n",
       "                            u'inv_location_1/4 pole',\n",
       "                            u'inv_location_1/8 pole',\n",
       "                            u'inv_location_3/4 pole',\n",
       "                            u'inv_location_3/8 pole',\n",
       "                        u'inv_location_after finish',\n",
       "                        u'inv_location_finger lakes',\n",
       "                             u'inv_location_missing',\n",
       "                               u'inv_location_other',\n",
       "                             u'inv_location_stretch',\n",
       "                      u'jockey_driver_IRAD ORTIZ JR',\n",
       "                 u'jockey_driver_JUNIOR R. ALVARADO',\n",
       "                            u'jockey_driver_missing',\n",
       "                              u'jockey_driver_other',\n",
       "               u'racing_type_description_Non-Racing',\n",
       "                   u'racing_type_description_Racing',\n",
       "                 u'racing_type_description_Training',\n",
       "                  u'racing_type_description_Unknown',\n",
       "                  u'track_Aqueduct Racetrack (NYRA)',\n",
       "                              u'track_Batavia Downs',\n",
       "                        u'track_Belmont Park (NYRA)',\n",
       "                            u'track_Buffalo Raceway',\n",
       "            u'track_Finger Lakes Gaming & Racetrack',\n",
       "       u'track_Monticello Raceway & Mighty M Gaming',\n",
       "                  u'track_Saratoga Gaming & Raceway',\n",
       "                 u'track_Saratoga Racecourse (NYRA)',\n",
       "                                u'track_Tioga Downs',\n",
       "                               u'track_Vernon Downs',\n",
       "                            u'track_Yonkers Raceway',\n",
       "                 u'trainer_CHRISTOPHER J. ENGLEHART',\n",
       "                 u'trainer_RODOLFO (RUDY) RODRIGUEZ',\n",
       "                                  u'trainer_missing',\n",
       "                                    u'trainer_other',\n",
       "                         u'weather_conditions_clear',\n",
       "                        u'weather_conditions_cloudy',\n",
       "                       u'weather_conditions_missing',\n",
       "                         u'weather_conditions_other',\n",
       "                        u'weather_conditions_partly',\n",
       "                          u'weather_conditions_rain',\n",
       "                         u'weather_conditions_sunny',\n",
       "                                        u'year_2009',\n",
       "                                        u'year_2010',\n",
       "                                        u'year_2011',\n",
       "                                        u'year_2012',\n",
       "                                        u'year_2013',\n",
       "                                        u'year_2014',\n",
       "                                        u'year_2015',\n",
       "                                        u'year_2016',\n",
       "                                        u'year_2017',\n",
       "                                        u'year_2018'],\n",
       "      dtype='object')"
      ]
     },
     "execution_count": 17,
     "metadata": {},
     "output_type": "execute_result"
    }
   ],
   "source": [
    "# create features and target variable\n",
    "features = df_enc.columns[1:54]\n",
    "y_target = pd.factorize(train['incident_type'])[0]\n",
    "features"
   ]
  },
  {
   "cell_type": "code",
   "execution_count": 18,
   "metadata": {},
   "outputs": [
    {
     "data": {
      "text/plain": [
       "RandomForestClassifier(bootstrap=True, class_weight=None, criterion='gini',\n",
       "            max_depth=None, max_features='auto', max_leaf_nodes=None,\n",
       "            min_impurity_decrease=0.0, min_impurity_split=None,\n",
       "            min_samples_leaf=1, min_samples_split=2,\n",
       "            min_weight_fraction_leaf=0.0, n_estimators=100, n_jobs=1,\n",
       "            oob_score=False, random_state=1, verbose=0, warm_start=False)"
      ]
     },
     "execution_count": 18,
     "metadata": {},
     "output_type": "execute_result"
    }
   ],
   "source": [
    "# train a basic classifier\n",
    "clf = RandomForestClassifier(n_estimators = 100, random_state = 1)\n",
    "clf.fit(train[features], y_target)"
   ]
  },
  {
   "cell_type": "code",
   "execution_count": 19,
   "metadata": {},
   "outputs": [
    {
     "data": {
      "text/plain": [
       "array([[ 0.52      ,  0.48      ],\n",
       "       [ 0.95      ,  0.05      ],\n",
       "       [ 1.        ,  0.        ],\n",
       "       [ 0.95857143,  0.04142857],\n",
       "       [ 0.36283333,  0.63716667],\n",
       "       [ 1.        ,  0.        ],\n",
       "       [ 0.66066667,  0.33933333],\n",
       "       [ 0.01      ,  0.99      ],\n",
       "       [ 1.        ,  0.        ],\n",
       "       [ 1.        ,  0.        ],\n",
       "       [ 0.        ,  1.        ],\n",
       "       [ 0.24833333,  0.75166667],\n",
       "       [ 0.43722222,  0.56277778],\n",
       "       [ 0.9025    ,  0.0975    ],\n",
       "       [ 0.68      ,  0.32      ],\n",
       "       [ 0.42083333,  0.57916667],\n",
       "       [ 0.82202381,  0.17797619],\n",
       "       [ 0.745     ,  0.255     ],\n",
       "       [ 0.26200799,  0.73799201],\n",
       "       [ 0.01      ,  0.99      ],\n",
       "       [ 0.97      ,  0.03      ],\n",
       "       [ 0.93269933,  0.06730067],\n",
       "       [ 1.        ,  0.        ],\n",
       "       [ 0.98666667,  0.01333333],\n",
       "       [ 0.09      ,  0.91      ]])"
      ]
     },
     "execution_count": 19,
     "metadata": {},
     "output_type": "execute_result"
    }
   ],
   "source": [
    "# apply to test set\n",
    "y_pred = clf.predict(test[features])\n",
    "# and view probabilities associated with each prediction\n",
    "clf.predict_proba(test[features])[0:25]"
   ]
  },
  {
   "cell_type": "code",
   "execution_count": 20,
   "metadata": {},
   "outputs": [
    {
     "data": {
      "text/plain": [
       "incident_type\n",
       "0    61.557252\n",
       "1    38.442748\n",
       "dtype: float64"
      ]
     },
     "execution_count": 20,
     "metadata": {},
     "output_type": "execute_result"
    }
   ],
   "source": [
    "# evaluation of classifier performance\n",
    "# baseline: just guessing most common result of injury\n",
    "pd.value_counts(df_enc['incident_type'])\n",
    "df_enc.groupby('incident_type').size() * 100 / len(df_enc)"
   ]
  },
  {
   "cell_type": "code",
   "execution_count": 21,
   "metadata": {},
   "outputs": [
    {
     "name": "stdout",
     "output_type": "stream",
     "text": [
      "accuracy rate on test set: 0.801013941698\n"
     ]
    }
   ],
   "source": [
    "# overall accuracy\n",
    "y_true = pd.factorize(test['incident_type'])[0]\n",
    "\n",
    "def accuracy(y_pred, y_true):\n",
    "    tp = [1 for k in range(len(y_pred)) if y_true[k] == y_pred[k]]\n",
    "    tp = np.sum(tp)\n",
    "    return tp/float(len(y_pred))\n",
    "\n",
    "print'accuracy rate on test set:', accuracy(y_pred = y_pred, y_true = y_true)"
   ]
  },
  {
   "cell_type": "code",
   "execution_count": 22,
   "metadata": {},
   "outputs": [
    {
     "data": {
      "text/html": [
       "<div>\n",
       "<style>\n",
       "    .dataframe thead tr:only-child th {\n",
       "        text-align: right;\n",
       "    }\n",
       "\n",
       "    .dataframe thead th {\n",
       "        text-align: left;\n",
       "    }\n",
       "\n",
       "    .dataframe tbody tr th {\n",
       "        vertical-align: top;\n",
       "    }\n",
       "</style>\n",
       "<table border=\"1\" class=\"dataframe\">\n",
       "  <thead>\n",
       "    <tr style=\"text-align: right;\">\n",
       "      <th>predicted</th>\n",
       "      <th>0</th>\n",
       "      <th>1</th>\n",
       "    </tr>\n",
       "    <tr>\n",
       "      <th>actual</th>\n",
       "      <th></th>\n",
       "      <th></th>\n",
       "    </tr>\n",
       "  </thead>\n",
       "  <tbody>\n",
       "    <tr>\n",
       "      <th>0</th>\n",
       "      <td>427</td>\n",
       "      <td>60</td>\n",
       "    </tr>\n",
       "    <tr>\n",
       "      <th>1</th>\n",
       "      <td>97</td>\n",
       "      <td>205</td>\n",
       "    </tr>\n",
       "  </tbody>\n",
       "</table>\n",
       "</div>"
      ],
      "text/plain": [
       "predicted    0    1\n",
       "actual             \n",
       "0          427   60\n",
       "1           97  205"
      ]
     },
     "execution_count": 22,
     "metadata": {},
     "output_type": "execute_result"
    }
   ],
   "source": [
    "# confusion matrix evaluation of classifier performance\n",
    "pd.crosstab(test['incident_type'], y_pred, rownames = ['actual'], colnames = ['predicted'])"
   ]
  },
  {
   "cell_type": "code",
   "execution_count": 23,
   "metadata": {},
   "outputs": [
    {
     "name": "stdout",
     "output_type": "stream",
     "text": [
      "predicted         0         1\n",
      "actual                       \n",
      "0          0.876797  0.123203\n",
      "1          0.321192  0.678808\n"
     ]
    }
   ],
   "source": [
    "# percentage correct\n",
    "cross_tab = pd.crosstab(test['incident_type'], y_pred, rownames = ['actual'], colnames = ['predicted']).apply(lambda r: r/r.sum(), axis = 1)\n",
    "print(cross_tab)"
   ]
  },
  {
   "cell_type": "code",
   "execution_count": 24,
   "metadata": {},
   "outputs": [
    {
     "data": {
      "text/plain": [
       "<matplotlib.axes._subplots.AxesSubplot at 0x1a217514d0>"
      ]
     },
     "execution_count": 24,
     "metadata": {},
     "output_type": "execute_result"
    },
    {
     "data": {
      "image/png": "[encoded data removed]",
      "text/plain": [
       "<matplotlib.figure.Figure at 0x1a215c9ed0>"
      ]
     },
     "metadata": {},
     "output_type": "display_data"
    }
   ],
   "source": [
    "sn.set(rc = {'figure.figsize': (5, 5)}, style = 'white')\n",
    "sn.heatmap(cross_tab)"
   ]
  },
  {
   "cell_type": "code",
   "execution_count": 25,
   "metadata": {
    "collapsed": true
   },
   "outputs": [],
   "source": [
    "# split into train/test using scikit function\n",
    "y = df_enc['incident_type']\n",
    "df_enc.drop(['incident_type', 'is_train'], axis = 1, inplace = True)\n",
    "x_train, x_test, y_train, y_test = train_test_split(df_enc, y, random_state = 1)"
   ]
  },
  {
   "cell_type": "code",
   "execution_count": 27,
   "metadata": {},
   "outputs": [
    {
     "name": "stdout",
     "output_type": "stream",
     "text": [
      "best parameters: {'min_samples_split': 11, 'max_depth': None, 'min_samples_leaf': 5}\n"
     ]
    }
   ],
   "source": [
    "# grid search for best parameters for random forest \n",
    "clfrf = RandomForestClassifier(n_estimators = 100, random_state = 1)\n",
    "param = [{'max_depth': [None, 1, 5, 10],\n",
    "         'min_samples_leaf': [1, 5, 10], \n",
    "         'min_samples_split': [2, 6, 11],}\n",
    "    ]\n",
    "\n",
    "scoring = make_scorer(accuracy_score)\n",
    "gs = GridSearchCV(estimator = clfrf, param_grid = param, scoring = scoring, cv = 10)\n",
    "gs = gs.fit(x_train, y_train)\n",
    "bestparam = gs.best_params_\n",
    "print'best parameters:', bestparam"
   ]
  },
  {
   "cell_type": "code",
   "execution_count": 28,
   "metadata": {},
   "outputs": [
    {
     "data": {
      "text/plain": [
       "RandomForestClassifier(bootstrap=True, class_weight=None, criterion='gini',\n",
       "            max_depth=None, max_features='auto', max_leaf_nodes=None,\n",
       "            min_impurity_decrease=0.0, min_impurity_split=None,\n",
       "            min_samples_leaf=5, min_samples_split=11,\n",
       "            min_weight_fraction_leaf=0.0, n_estimators=100, n_jobs=1,\n",
       "            oob_score=False, random_state=None, verbose=0,\n",
       "            warm_start=False)"
      ]
     },
     "execution_count": 28,
     "metadata": {},
     "output_type": "execute_result"
    }
   ],
   "source": [
    "# train a second classifier using the best parameters\n",
    "clf_2 = RandomForestClassifier(n_estimators = 100, min_samples_split = 11, max_depth = None, min_samples_leaf = 5)\n",
    "clf_2.fit(x_train, y_train)"
   ]
  },
  {
   "cell_type": "code",
   "execution_count": 29,
   "metadata": {},
   "outputs": [
    {
     "data": {
      "text/plain": [
       "0.80586080586080588"
      ]
     },
     "execution_count": 29,
     "metadata": {},
     "output_type": "execute_result"
    }
   ],
   "source": [
    "# evaluate the second classifier using scikit's accuracy scoring\n",
    "y_pred2 = clf_2.predict(x_test)\n",
    "accuracy_score(y_test, y_pred2)"
   ]
  },
  {
   "cell_type": "code",
   "execution_count": 30,
   "metadata": {},
   "outputs": [
    {
     "data": {
      "text/html": [
       "<div>\n",
       "<style>\n",
       "    .dataframe thead tr:only-child th {\n",
       "        text-align: right;\n",
       "    }\n",
       "\n",
       "    .dataframe thead th {\n",
       "        text-align: left;\n",
       "    }\n",
       "\n",
       "    .dataframe tbody tr th {\n",
       "        vertical-align: top;\n",
       "    }\n",
       "</style>\n",
       "<table border=\"1\" class=\"dataframe\">\n",
       "  <thead>\n",
       "    <tr style=\"text-align: right;\">\n",
       "      <th></th>\n",
       "      <th>predicted injured</th>\n",
       "      <th>predicted death</th>\n",
       "    </tr>\n",
       "  </thead>\n",
       "  <tbody>\n",
       "    <tr>\n",
       "      <th>actual injured</th>\n",
       "      <td>0.922000</td>\n",
       "      <td>0.078000</td>\n",
       "    </tr>\n",
       "    <tr>\n",
       "      <th>actual death</th>\n",
       "      <td>0.376176</td>\n",
       "      <td>0.623824</td>\n",
       "    </tr>\n",
       "  </tbody>\n",
       "</table>\n",
       "</div>"
      ],
      "text/plain": [
       "                predicted injured  predicted death\n",
       "actual injured           0.922000         0.078000\n",
       "actual death             0.376176         0.623824"
      ]
     },
     "execution_count": 30,
     "metadata": {},
     "output_type": "execute_result"
    }
   ],
   "source": [
    "# confusion matrix\n",
    "conf = pd.DataFrame(\n",
    "    confusion_matrix(y_test, y_pred2),\n",
    "    columns = ['predicted injured', 'predicted death'],\n",
    "    index = ['actual injured', 'actual death']\n",
    ")\n",
    "conf\n",
    "conf.apply(lambda r: r/r.sum(), axis = 1)"
   ]
  },
  {
   "cell_type": "code",
   "execution_count": 31,
   "metadata": {},
   "outputs": [
    {
     "name": "stdout",
     "output_type": "stream",
     "text": [
      "             precision    recall  f1-score   support\n",
      "\n",
      "          0       0.79      0.92      0.85       500\n",
      "          1       0.84      0.62      0.71       319\n",
      "\n",
      "avg / total       0.81      0.81      0.80       819\n",
      "\n"
     ]
    }
   ],
   "source": [
    "# overall metrics report (scale: 0-1, 1 is best)\n",
    "# how precisely does the model avoid false positves (precision)?\n",
    "# how successfully does the model find all the positive samples (recall)?\n",
    "print(classification_report(y_test, y_pred2))"
   ]
  },
  {
   "cell_type": "code",
   "execution_count": null,
   "metadata": {
    "collapsed": true
   },
   "outputs": [],
   "source": []
  }
 ],
 "metadata": {
  "kernelspec": {
   "display_name": "Python 2",
   "language": "python",
   "name": "python2"
  },
  "language_info": {
   "codemirror_mode": {
    "name": "ipython",
    "version": 2
   },
   "file_extension": ".py",
   "mimetype": "text/x-python",
   "name": "python",
   "nbconvert_exporter": "python",
   "pygments_lexer": "ipython2",
   "version": "2.7.14"
  }
 },
 "nbformat": 4,
 "nbformat_minor": 2
}
